{
 "cells": [
  {
   "cell_type": "markdown",
   "metadata": {},
   "source": [
    "### Connecting Mysql with Python :"
   ]
  },
  {
   "cell_type": "code",
   "execution_count": 1,
   "metadata": {},
   "outputs": [
    {
     "name": "stdout",
     "output_type": "stream",
     "text": [
      "<mysql.connector.connection.MySQLConnection object at 0x000001A8321CD910>\n"
     ]
    }
   ],
   "source": [
    "import mysql.connector\n",
    "mydb = mysql.connector.connect(host=\"localhost\",\n",
    "                              user=\"root\",\n",
    "                              passwd=\"Prakash1@234\")\n",
    "print(mydb)"
   ]
  },
  {
   "cell_type": "markdown",
   "metadata": {},
   "source": [
    "### Creating DATABASE :"
   ]
  },
  {
   "cell_type": "code",
   "execution_count": 2,
   "metadata": {},
   "outputs": [],
   "source": [
    "import mysql.connector\n",
    "mydb = mysql.connector.connect(host=\"localhost\",\n",
    "                              user=\"root\",\n",
    "                              passwd=\"Prakash1@234\")\n",
    "mycursor = mydb.cursor()\n",
    "mycursor.execute(\"CREATE DATABASE PatientsRecordPython\")"
   ]
  },
  {
   "cell_type": "markdown",
   "metadata": {},
   "source": [
    "### Creating Table in DATABASE :"
   ]
  },
  {
   "cell_type": "code",
   "execution_count": 3,
   "metadata": {},
   "outputs": [],
   "source": [
    "import mysql.connector\n",
    "\n",
    "mydb = mysql.connector.connect(host = \"localhost\",\n",
    "                              user = \"root\",\n",
    "                              passwd = \"Prakash1@234\",\n",
    "                              database = \"PatientsRecordPython\")\n",
    "mycursor = mydb.cursor()\n",
    "mycursor.execute(\"CREATE TABLE worldwide_records (Customer_Name VARCHAR(25) NOT NULL PRIMARY KEY,Customer_ID VARCHAR(18) NOT NULL,Customer_Open_Dat DATE NOT NULL,Last_Consulted_Dat DATE NOT NULL,Vaccination_Type CHAR(5) NOT NULL,Doctor_Consulted CHAR(25) NOT NULL,State CHAR(25) NOT NULL,Country CHAR(25) NOT NULL,Post_Code INT(5) NOT NULL,DOB DATE NOT NULL,Active_Customer CHAR(1) NOT NULL)\")"
   ]
  },
  {
   "cell_type": "markdown",
   "metadata": {},
   "source": [
    "### Inserting Data into the table :"
   ]
  },
  {
   "cell_type": "code",
   "execution_count": 4,
   "metadata": {},
   "outputs": [
    {
     "name": "stdout",
     "output_type": "stream",
     "text": [
      "10 record(s) inserted.\n"
     ]
    }
   ],
   "source": [
    "import mysql.connector\n",
    "\n",
    "mydb = mysql.connector.connect(host = \"localhost\",\n",
    "                              user = \"root\",\n",
    "                              passwd = \"Prakash1@234\",\n",
    "                              database = \"PatientsRecordPython\")\n",
    "mycursor = mydb.cursor()\n",
    "sql = \"INSERT INTO worldwide_records(Customer_Name,Customer_ID,Customer_Open_Dat,Last_Consulted_Dat,Vaccination_Type,Doctor_Consulted,State,Country,Post_Code,DOB,Active_Customer) VALUES (%s,%s,%s,%s,%s,%s,%s,%s,%s,%s,%s)\"\n",
    "\n",
    "val = [ ('Robert', '123457', '20100406', '20120203', 'MVD', 'Paul', 'Alabama', 'USA', '789456', '19870201', 'A'),('James', '123458', '20100203', '20120203', 'MVD', 'Paul', 'TamilNamdu', 'India', '987654', '19880201', 'A'),\n",
    "      ('John', '123459', '20101112', '20120203', 'MVD', 'Paul', 'Berlin', 'Germany', '641548', '19950811', 'A'),\n",
    "      ('Leo', '123456', '20110607', '20120203', 'MVD', 'Paul', 'Bermen', 'Germany', '754846', '19941212', 'A'),\n",
    "      ('Jack', '123455', '20120609', '20120203', 'MVD', 'Robert', 'Karnataka', 'India', '123487', '19800502', 'A'),\n",
    "     ('Rose', '123789', '20120807', '20120203', 'MVD', 'Peter', 'Alsace', 'France', '652651', '19900608', 'A'),\n",
    "    ('Prakash', '124567', '20140907', '20120203', 'MVD', 'Paul', 'Kerala', 'India', '654653', '19820909', 'A'),\n",
    "     ('Prem', '126581', '20150907', '20120203', 'MVD', 'Peter', 'Centre', 'France', '325324', '19850208', 'A'),\n",
    "     ('Antony', '145879', '20130509', '20120203', 'MVD', 'Robert', 'Hamburg', 'Germany', '658657', '19840706', 'A'), \n",
    "      ('Albert', '548785', '20140507', '20120203', 'MVD', 'Robert', 'Hesse', 'Germany', '656645', '19940808', 'A')]\n",
    "mycursor.executemany(sql,val)\n",
    "mydb.commit()\n",
    "print(mycursor.rowcount,\"record(s) inserted.\")"
   ]
  },
  {
   "cell_type": "markdown",
   "metadata": {},
   "source": [
    "### Getting the table in Data using Python :"
   ]
  },
  {
   "cell_type": "code",
   "execution_count": 5,
   "metadata": {},
   "outputs": [
    {
     "name": "stdout",
     "output_type": "stream",
     "text": [
      "('Albert', '548785', datetime.date(2014, 5, 7), datetime.date(2012, 2, 3), 'MVD', 'Robert', 'Hesse', 'Germany', 656645, datetime.date(1994, 8, 8), 'A')\n",
      "('Antony', '145879', datetime.date(2013, 5, 9), datetime.date(2012, 2, 3), 'MVD', 'Robert', 'Hamburg', 'Germany', 658657, datetime.date(1984, 7, 6), 'A')\n",
      "('Jack', '123455', datetime.date(2012, 6, 9), datetime.date(2012, 2, 3), 'MVD', 'Robert', 'Karnataka', 'India', 123487, datetime.date(1980, 5, 2), 'A')\n",
      "('James', '123458', datetime.date(2010, 2, 3), datetime.date(2012, 2, 3), 'MVD', 'Paul', 'TamilNamdu', 'India', 987654, datetime.date(1988, 2, 1), 'A')\n",
      "('John', '123459', datetime.date(2010, 11, 12), datetime.date(2012, 2, 3), 'MVD', 'Paul', 'Berlin', 'Germany', 641548, datetime.date(1995, 8, 11), 'A')\n",
      "('Leo', '123456', datetime.date(2011, 6, 7), datetime.date(2012, 2, 3), 'MVD', 'Paul', 'Bermen', 'Germany', 754846, datetime.date(1994, 12, 12), 'A')\n",
      "('Prakash', '124567', datetime.date(2014, 9, 7), datetime.date(2012, 2, 3), 'MVD', 'Paul', 'Kerala', 'India', 654653, datetime.date(1982, 9, 9), 'A')\n",
      "('Prem', '126581', datetime.date(2015, 9, 7), datetime.date(2012, 2, 3), 'MVD', 'Peter', 'Centre', 'France', 325324, datetime.date(1985, 2, 8), 'A')\n",
      "('Robert', '123457', datetime.date(2010, 4, 6), datetime.date(2012, 2, 3), 'MVD', 'Paul', 'Alabama', 'USA', 789456, datetime.date(1987, 2, 1), 'A')\n",
      "('Rose', '123789', datetime.date(2012, 8, 7), datetime.date(2012, 2, 3), 'MVD', 'Peter', 'Alsace', 'France', 652651, datetime.date(1990, 6, 8), 'A')\n"
     ]
    }
   ],
   "source": [
    "import mysql.connector\n",
    "\n",
    "mydb = mysql.connector.connect(host = \"localhost\",\n",
    "                              user = \"root\",\n",
    "                              passwd = \"Prakash1@234\",\n",
    "                              database = \"PatientsRecordPython\")\n",
    "mycursor = mydb.cursor()\n",
    "sql = \"SELECT * FROM worldwide_records\"\n",
    "mycursor.execute(sql)\n",
    "myresult = mycursor.fetchall()\n",
    "\n",
    "for x in myresult :\n",
    "    print(x)"
   ]
  },
  {
   "cell_type": "markdown",
   "metadata": {},
   "source": [
    "### Extracting the table based on COUNTRY :"
   ]
  },
  {
   "cell_type": "code",
   "execution_count": 6,
   "metadata": {},
   "outputs": [
    {
     "name": "stdout",
     "output_type": "stream",
     "text": [
      "('Jack', '123455', datetime.date(2012, 6, 9), datetime.date(2012, 2, 3), 'MVD', 'Robert', 'Karnataka', 'India', 123487, datetime.date(1980, 5, 2), 'A')\n",
      "('James', '123458', datetime.date(2010, 2, 3), datetime.date(2012, 2, 3), 'MVD', 'Paul', 'TamilNamdu', 'India', 987654, datetime.date(1988, 2, 1), 'A')\n",
      "('Prakash', '124567', datetime.date(2014, 9, 7), datetime.date(2012, 2, 3), 'MVD', 'Paul', 'Kerala', 'India', 654653, datetime.date(1982, 9, 9), 'A')\n",
      "3 records fetched.\n"
     ]
    }
   ],
   "source": [
    "import mysql.connector\n",
    "\n",
    "mydb = mysql.connector.connect(host = \"localhost\",\n",
    "                              user = \"root\",\n",
    "                              passwd = \"Prakash1@234\",\n",
    "                              database = \"PatientsRecordPython\")\n",
    "mycursor = mydb.cursor()\n",
    "sql = \"SELECT * FROM worldwide_records WHERE Country = %s\"\n",
    "adr = (\"India\",)\n",
    "mycursor.execute(sql,adr)\n",
    "myresult = mycursor.fetchall()\n",
    "\n",
    "for x in myresult :\n",
    "    print(x)\n",
    "print(mycursor.rowcount,\"records fetched.\")"
   ]
  },
  {
   "cell_type": "markdown",
   "metadata": {},
   "source": [
    "### Extracting the data using Pandas :"
   ]
  },
  {
   "cell_type": "code",
   "execution_count": 7,
   "metadata": {},
   "outputs": [
    {
     "name": "stdout",
     "output_type": "stream",
     "text": [
      "       0       1           2           3    4       5           6        7   \\\n",
      "0  Albert  548785  2014-05-07  2012-02-03  MVD  Robert       Hesse  Germany   \n",
      "1  Antony  145879  2013-05-09  2012-02-03  MVD  Robert     Hamburg  Germany   \n",
      "2    Jack  123455  2012-06-09  2012-02-03  MVD  Robert   Karnataka    India   \n",
      "3   James  123458  2010-02-03  2012-02-03  MVD    Paul  TamilNamdu    India   \n",
      "4    John  123459  2010-11-12  2012-02-03  MVD    Paul      Berlin  Germany   \n",
      "\n",
      "       8           9  10  \n",
      "0  656645  1994-08-08  A  \n",
      "1  658657  1984-07-06  A  \n",
      "2  123487  1980-05-02  A  \n",
      "3  987654  1988-02-01  A  \n",
      "4  641548  1995-08-11  A  \n",
      "\n",
      "-----------****------------*******-----------******-------------\n",
      "\n",
      "   Customer_Name Customer_ID Customer_Open_Dat Last_Consulted_Dat  \\\n",
      "0        Albert      548785        2014-05-07         2012-02-03   \n",
      "1        Antony      145879        2013-05-09         2012-02-03   \n",
      "2          Jack      123455        2012-06-09         2012-02-03   \n",
      "3         James      123458        2010-02-03         2012-02-03   \n",
      "4          John      123459        2010-11-12         2012-02-03   \n",
      "\n",
      "  Vaccination_Type Doctor_Consulted       State  Country  Post_Code  \\\n",
      "0              MVD           Robert       Hesse  Germany     656645   \n",
      "1              MVD           Robert     Hamburg  Germany     658657   \n",
      "2              MVD           Robert   Karnataka    India     123487   \n",
      "3              MVD             Paul  TamilNamdu    India     987654   \n",
      "4              MVD             Paul      Berlin  Germany     641548   \n",
      "\n",
      "          DOB Active_Customer  \n",
      "0  1994-08-08               A  \n",
      "1  1984-07-06               A  \n",
      "2  1980-05-02               A  \n",
      "3  1988-02-01               A  \n",
      "4  1995-08-11               A  \n"
     ]
    }
   ],
   "source": [
    "import mysql.connector \n",
    "import pandas as pd\n",
    "mydb = mysql.connector.connect(host = \"localhost\",\n",
    "                              user = \"root\",\n",
    "                              passwd = \"Prakash1@234\",\n",
    "                              database = \"PatientsRecordPython\")\n",
    "mycursor = mydb.cursor()\n",
    "mycursor.execute(\"SELECT * FROM worldwide_records\")\n",
    "table_rows = mycursor.fetchall()\n",
    "df = pd.DataFrame(table_rows)\n",
    "print(df.head())\n",
    "print(\"\\n-----------****------------*******-----------******-------------\")\n",
    "\n",
    "df1 = pd.read_sql(\"SELECT * FROM worldwide_records\",con = mydb)\n",
    "print(\"\\n\",df1.head())\n"
   ]
  },
  {
   "cell_type": "markdown",
   "metadata": {},
   "source": [
    "### Creating 2nd table and move the table data based on COUNTRY :"
   ]
  },
  {
   "cell_type": "code",
   "execution_count": 8,
   "metadata": {},
   "outputs": [],
   "source": [
    "import mysql.connector\n",
    "\n",
    "mydb = mysql.connector.connect(host = \"localhost\",\n",
    "                              user = \"root\",\n",
    "                              passwd = \"Prakash1@234\",\n",
    "                              database = \"PatientsRecordPython\")\n",
    "mycursor = mydb.cursor()\n",
    "mycursor.execute(\"CREATE TABLE india_records (Customer_Name VARCHAR(25) NOT NULL PRIMARY KEY,Customer_ID VARCHAR(18) NOT NULL,Customer_Open_Dat DATE NOT NULL,Last_Consulted_Dat DATE NOT NULL,Vaccination_Type CHAR(5) NOT NULL,Doctor_Consulted CHAR(25) NOT NULL,State CHAR(25) NOT NULL,Country CHAR(25) NOT NULL,Post_Code INT(5) NOT NULL,DOB DATE NOT NULL,Active_Customer CHAR(1) NOT NULL)\")"
   ]
  },
  {
   "cell_type": "markdown",
   "metadata": {},
   "source": [
    "  I used MYSQL query to insert the table data in MYSQL workbench \n",
    "  SQL QUERY to insert table data from one table to another table is given as below\n",
    "  \n",
    "   \"SELECT * FROM patientsrecordpython.worldwide_records\n",
    "    INSERT INTO patientsrecordpython.india_records\n",
    "    WHERE Country = \"India\" \".\n",
    "    \n",
    "   I used above query to move the table data to india_records. "
   ]
  },
  {
   "cell_type": "code",
   "execution_count": 22,
   "metadata": {
    "scrolled": true
   },
   "outputs": [
    {
     "name": "stdout",
     "output_type": "stream",
     "text": [
      "('Jack', '123455', datetime.date(2012, 6, 9), datetime.date(2012, 2, 3), 'MVD', 'Robert', 'Karnataka', 'India', 123487, datetime.date(1980, 5, 2), 'A')\n",
      "('James', '123458', datetime.date(2010, 2, 3), datetime.date(2012, 2, 3), 'MVD', 'Paul', 'TamilNamdu', 'India', 987654, datetime.date(1988, 2, 1), 'A')\n",
      "('Prakash', '124567', datetime.date(2014, 9, 7), datetime.date(2012, 2, 3), 'MVD', 'Paul', 'Kerala', 'India', 654653, datetime.date(1982, 9, 9), 'A')\n",
      "3 records fetched.\n"
     ]
    }
   ],
   "source": [
    "import mysql.connector\n",
    "mydb = mysql.connector.connect(host = \"localhost\",\n",
    "                              user = \"root\",\n",
    "                              passwd = \"Prakash1@234\",\n",
    "                              database = \"PatientsRecordPython\")\n",
    "mycursor = mydb.cursor()\n",
    "sql = \" SELECT * FROM india_records\"\n",
    "mycursor.execute(sql)\n",
    "my = mycursor.fetchall()\n",
    "for item in my :\n",
    "         print(item)  \n",
    "print(mycursor.rowcount,\"records fetched.\")"
   ]
  },
  {
   "cell_type": "markdown",
   "metadata": {},
   "source": [
    "### CREATE 2nd DATABASE :"
   ]
  },
  {
   "cell_type": "code",
   "execution_count": 24,
   "metadata": {},
   "outputs": [],
   "source": [
    "import mysql.connector\n",
    "mydb = mysql.connector.connect(host=\"localhost\",\n",
    "                              user=\"root\",\n",
    "                              passwd=\"Prakash1@234\")\n",
    "mycursor = mydb.cursor()\n",
    "mycursor.execute(\"CREATE DATABASE CountrywiseRecordPython\")"
   ]
  },
  {
   "cell_type": "code",
   "execution_count": 25,
   "metadata": {},
   "outputs": [],
   "source": [
    "import mysql.connector\n",
    "\n",
    "mydb = mysql.connector.connect(host = \"localhost\",\n",
    "                              user = \"root\",\n",
    "                              passwd = \"Prakash1@234\",\n",
    "                              database = \"CountrywiseRecordPython\")\n",
    "mycursor = mydb.cursor()\n",
    "mycursor.execute(\"CREATE TABLE india_records (Customer_Name VARCHAR(25) NOT NULL PRIMARY KEY,Customer_ID VARCHAR(18) NOT NULL,Customer_Open_Dat DATE NOT NULL,Last_Consulted_Dat DATE NOT NULL,Vaccination_Type CHAR(5) NOT NULL,Doctor_Consulted CHAR(25) NOT NULL,State CHAR(25) NOT NULL,Country CHAR(25) NOT NULL,Post_Code INT(5) NOT NULL,DOB DATE NOT NULL,Active_Customer CHAR(1) NOT NULL)\")"
   ]
  },
  {
   "cell_type": "markdown",
   "metadata": {},
   "source": [
    "### TRANSFERING DATA FROM ONE DATABASE TO ANOTHER DATABASE :"
   ]
  },
  {
   "cell_type": "markdown",
   "metadata": {},
   "source": [
    "I used MYSQL query to insert the table data in MYSQL workbench \n",
    "  SQL QUERY to insert table data from one table to another table is given as below\n",
    "  \n",
    "   \"INSERT INTO countrywiserecordpython.india_records\n",
    "    SELECT * FROM patientsrecordpython.india_records \".\n",
    "    \n",
    "   I used above query to move the table data to india_records in countrywiserecordpython database."
   ]
  }
 ],
 "metadata": {
  "kernelspec": {
   "display_name": "Python 3",
   "language": "python",
   "name": "python3"
  },
  "language_info": {
   "codemirror_mode": {
    "name": "ipython",
    "version": 3
   },
   "file_extension": ".py",
   "mimetype": "text/x-python",
   "name": "python",
   "nbconvert_exporter": "python",
   "pygments_lexer": "ipython3",
   "version": "3.8.5"
  }
 },
 "nbformat": 4,
 "nbformat_minor": 4
}
